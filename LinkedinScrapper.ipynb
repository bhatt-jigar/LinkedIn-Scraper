{
 "cells": [
  {
   "cell_type": "code",
   "execution_count": 5,
   "metadata": {},
   "outputs": [],
   "source": [
    "import time\n",
    "from selenium import webdriver\n",
    "from bs4 import BeautifulSoup\n",
    "import pandas as pd\n",
    "cd=\"C:\\\\Users\\\\jbhat\\\\Downloads\\\\ChromeDriver\\\\chromedriver.exe\"\n",
    "browser=webdriver.Chrome(cd)"
   ]
  },
  {
   "cell_type": "code",
   "execution_count": 7,
   "metadata": {},
   "outputs": [
    {
     "name": "stdout",
     "output_type": "stream",
     "text": [
      "DONE\n"
     ]
    }
   ],
   "source": [
    "browser.get('https://www.linkedin.com/mynetwork/invite-connect/connections/')\n",
    "\n",
    "si=browser.find_element_by_xpath('//a[@class=\"main__sign-in-link\"]')\n",
    "si.click()\n",
    "time.sleep(20)\n",
    "em='abc@gmail.com' #Change this\n",
    "pw='abc'  #Change this\n",
    "email=browser.find_element_by_xpath('//input[@id=\"username\"]')\n",
    "email.send_keys(em)\n",
    "pwd=browser.find_element_by_xpath('//input[@id=\"password\"]')\n",
    "pwd.send_keys(pw)\n",
    "btn=browser.find_element_by_xpath('//button[@class=\"btn__primary--large from__button--floating\"]')\n",
    "btn.click()\n",
    "\n",
    "pg=browser.page_source\n",
    "soup=BeautifulSoup(pg,'html.parser')\n",
    "de=soup.findAll('div',{'class':\"mn-connection-card__details\"})\n",
    "conn=[]\n",
    "for i in de:\n",
    "    k=i.find('a')\n",
    "    u=k.get('href')\n",
    "    conn.append(u)\n",
    "c_n=[]\n",
    "c_p=[]\n",
    "c_c=[]\n",
    "\n",
    "for i in conn:\n",
    "    url=\"https://www.linkedin.com/\"+i\n",
    "    browser.get(url)\n",
    "    ne=browser.find_element_by_xpath('//div[@class=\"flex-1 mr5\"]/ul[1]/li[1]')\n",
    "    name=ne.text\n",
    "    c_n.append(name)\n",
    "    cpe=browser.find_element_by_xpath('//div[@class=\"flex-1 mr5\"]/h2[1]')\n",
    "    cpos=cpe.text\n",
    "    c_p.append(cpos)\n",
    "    url2=url+'detail/contact-info/'\n",
    "    c_c.append(url2)\n",
    "\n",
    "dic={'Name':c_n,'Current Position':c_p, 'Contact Info': c_c}\n",
    "df=pd.DataFrame(dic)\n",
    "df.to_csv(\"C:\\\\Users\\\\jbhat\\\\LinkedIn connection.csv\",index=False)\n",
    "\n",
    "print(\"DONE\")"
   ]
  },
  {
   "cell_type": "code",
   "execution_count": null,
   "metadata": {},
   "outputs": [],
   "source": []
  }
 ],
 "metadata": {
  "kernelspec": {
   "display_name": "Python 3",
   "language": "python",
   "name": "python3"
  },
  "language_info": {
   "codemirror_mode": {
    "name": "ipython",
    "version": 3
   },
   "file_extension": ".py",
   "mimetype": "text/x-python",
   "name": "python",
   "nbconvert_exporter": "python",
   "pygments_lexer": "ipython3",
   "version": "3.7.1"
  }
 },
 "nbformat": 4,
 "nbformat_minor": 2
}
